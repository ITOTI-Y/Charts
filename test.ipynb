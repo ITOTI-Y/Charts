{
 "cells": [
  {
   "cell_type": "code",
   "execution_count": 27,
   "metadata": {},
   "outputs": [],
   "source": [
    "import pandas as pd\n",
    "import numpy as np\n",
    "\n",
    "df = pd.read_csv('test.csv')\n",
    "df.head()\n",
    "df_copy = df.copy()"
   ]
  },
  {
   "cell_type": "code",
   "execution_count": 28,
   "metadata": {},
   "outputs": [],
   "source": [
    "df_copy['Grounp'] = 0\n",
    "for i in range(len(df.iloc[:,0])):\n",
    "    if df_copy.iloc[i,0] <= 500:\n",
    "        df_copy.iloc[i,2] = 1\n",
    "    elif df_copy.iloc[i,0] > 500 and df_copy.iloc[i,0] <= 3000:\n",
    "        df_copy.iloc[i,2] = 2\n",
    "    elif df_copy.iloc[i,0] > 4000 and df_copy.iloc[i,0] <= 4000:\n",
    "        df_copy.iloc[i,2] = 3\n",
    "    elif df_copy.iloc[i,0] > 5000:\n",
    "        df_copy.iloc[i,2] = 4"
   ]
  },
  {
   "cell_type": "code",
   "execution_count": 30,
   "metadata": {},
   "outputs": [],
   "source": [
    "#export to csv\n",
    "df_copy.to_csv('test_fix.csv', index=False)"
   ]
  }
 ],
 "metadata": {
  "kernelspec": {
   "display_name": "Python 3",
   "language": "python",
   "name": "python3"
  },
  "language_info": {
   "codemirror_mode": {
    "name": "ipython",
    "version": 3
   },
   "file_extension": ".py",
   "mimetype": "text/x-python",
   "name": "python",
   "nbconvert_exporter": "python",
   "pygments_lexer": "ipython3",
   "version": "3.10.7 (tags/v3.10.7:6cc6b13, Sep  5 2022, 14:08:36) [MSC v.1933 64 bit (AMD64)]"
  },
  "orig_nbformat": 4,
  "vscode": {
   "interpreter": {
    "hash": "3196968d684371006099b3d55edeef8ed90365227a30deaef86e5d4aa8519be0"
   }
  }
 },
 "nbformat": 4,
 "nbformat_minor": 2
}
