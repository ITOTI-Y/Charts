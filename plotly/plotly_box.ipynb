{
 "cells": [
  {
   "cell_type": "code",
   "execution_count": 37,
   "metadata": {},
   "outputs": [],
   "source": [
    "import pandas as pd\n",
    "import plotly.graph_objects as go\n",
    "import plotly.express as px"
   ]
  },
  {
   "cell_type": "code",
   "execution_count": 14,
   "metadata": {},
   "outputs": [
    {
     "data": {
      "text/html": [
       "<div>\n",
       "<style scoped>\n",
       "    .dataframe tbody tr th:only-of-type {\n",
       "        vertical-align: middle;\n",
       "    }\n",
       "\n",
       "    .dataframe tbody tr th {\n",
       "        vertical-align: top;\n",
       "    }\n",
       "\n",
       "    .dataframe thead th {\n",
       "        text-align: right;\n",
       "    }\n",
       "</style>\n",
       "<table border=\"1\" class=\"dataframe\">\n",
       "  <thead>\n",
       "    <tr style=\"text-align: right;\">\n",
       "      <th></th>\n",
       "      <th>4、印象</th>\n",
       "      <th>5、外观</th>\n",
       "      <th>6、活力</th>\n",
       "      <th>7、清楚与否</th>\n",
       "      <th>8、方便与否</th>\n",
       "      <th>9、设计感</th>\n",
       "      <th>10、新旧</th>\n",
       "      <th>11、设计特色</th>\n",
       "      <th>12、设计的丰富与否</th>\n",
       "      <th>13、设计的统一与否</th>\n",
       "      <th>14、设计的精致与否</th>\n",
       "      <th>15、舒适与否</th>\n",
       "      <th>16、舒适与否</th>\n",
       "      <th>17、夜晚是否清楚</th>\n",
       "      <th>18、候车整体感受</th>\n",
       "    </tr>\n",
       "  </thead>\n",
       "  <tbody>\n",
       "    <tr>\n",
       "      <th>0</th>\n",
       "      <td>-1</td>\n",
       "      <td>-1</td>\n",
       "      <td>-1</td>\n",
       "      <td>-1</td>\n",
       "      <td>-1</td>\n",
       "      <td>0</td>\n",
       "      <td>-1</td>\n",
       "      <td>-1</td>\n",
       "      <td>-1</td>\n",
       "      <td>1</td>\n",
       "      <td>-1</td>\n",
       "      <td>-1</td>\n",
       "      <td>-1</td>\n",
       "      <td>-2</td>\n",
       "      <td>0</td>\n",
       "    </tr>\n",
       "    <tr>\n",
       "      <th>1</th>\n",
       "      <td>2</td>\n",
       "      <td>2</td>\n",
       "      <td>2</td>\n",
       "      <td>2</td>\n",
       "      <td>2</td>\n",
       "      <td>2</td>\n",
       "      <td>-2</td>\n",
       "      <td>2</td>\n",
       "      <td>-2</td>\n",
       "      <td>1</td>\n",
       "      <td>-1</td>\n",
       "      <td>-2</td>\n",
       "      <td>-2</td>\n",
       "      <td>-2</td>\n",
       "      <td>0</td>\n",
       "    </tr>\n",
       "    <tr>\n",
       "      <th>2</th>\n",
       "      <td>1</td>\n",
       "      <td>0</td>\n",
       "      <td>-1</td>\n",
       "      <td>1</td>\n",
       "      <td>0</td>\n",
       "      <td>1</td>\n",
       "      <td>-1</td>\n",
       "      <td>-1</td>\n",
       "      <td>-1</td>\n",
       "      <td>2</td>\n",
       "      <td>1</td>\n",
       "      <td>-1</td>\n",
       "      <td>1</td>\n",
       "      <td>-1</td>\n",
       "      <td>-1</td>\n",
       "    </tr>\n",
       "    <tr>\n",
       "      <th>3</th>\n",
       "      <td>-1</td>\n",
       "      <td>-1</td>\n",
       "      <td>-1</td>\n",
       "      <td>2</td>\n",
       "      <td>-1</td>\n",
       "      <td>-1</td>\n",
       "      <td>0</td>\n",
       "      <td>-2</td>\n",
       "      <td>-2</td>\n",
       "      <td>-2</td>\n",
       "      <td>-2</td>\n",
       "      <td>-1</td>\n",
       "      <td>-2</td>\n",
       "      <td>-2</td>\n",
       "      <td>-2</td>\n",
       "    </tr>\n",
       "    <tr>\n",
       "      <th>4</th>\n",
       "      <td>0</td>\n",
       "      <td>0</td>\n",
       "      <td>-1</td>\n",
       "      <td>-1</td>\n",
       "      <td>-1</td>\n",
       "      <td>-2</td>\n",
       "      <td>-2</td>\n",
       "      <td>-1</td>\n",
       "      <td>0</td>\n",
       "      <td>0</td>\n",
       "      <td>-1</td>\n",
       "      <td>-2</td>\n",
       "      <td>-2</td>\n",
       "      <td>-2</td>\n",
       "      <td>-2</td>\n",
       "    </tr>\n",
       "  </tbody>\n",
       "</table>\n",
       "</div>"
      ],
      "text/plain": [
       "   4、印象  5、外观  6、活力  7、清楚与否  8、方便与否  9、设计感  10、新旧  11、设计特色  12、设计的丰富与否  \\\n",
       "0    -1    -1    -1      -1      -1      0     -1       -1          -1   \n",
       "1     2     2     2       2       2      2     -2        2          -2   \n",
       "2     1     0    -1       1       0      1     -1       -1          -1   \n",
       "3    -1    -1    -1       2      -1     -1      0       -2          -2   \n",
       "4     0     0    -1      -1      -1     -2     -2       -1           0   \n",
       "\n",
       "   13、设计的统一与否  14、设计的精致与否  15、舒适与否  16、舒适与否  17、夜晚是否清楚  18、候车整体感受  \n",
       "0           1          -1       -1       -1         -2          0  \n",
       "1           1          -1       -2       -2         -2          0  \n",
       "2           2           1       -1        1         -1         -1  \n",
       "3          -2          -2       -1       -2         -2         -2  \n",
       "4           0          -1       -2       -2         -2         -2  "
      ]
     },
     "execution_count": 14,
     "metadata": {},
     "output_type": "execute_result"
    }
   ],
   "source": [
    "df = pd.read_csv(r\"C:\\Users\\Administrator\\Desktop\\Python\\Work\\图表\\plotly\\data\\168545681_0_校园小巴站点使用后评价调查问卷_20_20.csv\")\n",
    "data  = df.iloc[:, 9:24]\n",
    "data.head()"
   ]
  },
  {
   "cell_type": "code",
   "execution_count": 45,
   "metadata": {},
   "outputs": [
    {
     "data": {
      "text/plain": [
       "['rgb(127, 60, 141)',\n",
       " 'rgb(17, 165, 121)',\n",
       " 'rgb(57, 105, 172)',\n",
       " 'rgb(242, 183, 1)',\n",
       " 'rgb(231, 63, 116)',\n",
       " 'rgb(128, 186, 90)',\n",
       " 'rgb(230, 131, 16)',\n",
       " 'rgb(0, 134, 149)',\n",
       " 'rgb(207, 28, 144)',\n",
       " 'rgb(249, 123, 114)',\n",
       " 'rgb(165, 170, 153)']"
      ]
     },
     "execution_count": 45,
     "metadata": {},
     "output_type": "execute_result"
    }
   ],
   "source": [
    "color = px.colors.qualitative.Bold\n",
    "color"
   ]
  },
  {
   "cell_type": "code",
   "execution_count": 58,
   "metadata": {},
   "outputs": [
    {
     "data": {
      "application/vnd.plotly.v1+json": {
       "config": {
        "plotlyServerURL": "https://plot.ly"
       },
       "data": [
        {
         "boxmean": true,
         "boxpoints": "all",
         "jitter": 1,
         "legendgrouptitle": {
          "font": {
           "color": "#3B3B3B"
          }
         },
         "name": "印象",
         "pointpos": 0,
         "type": "box",
         "y": [
          -1,
          2,
          1,
          -1,
          0,
          -1,
          1,
          1,
          -1,
          1,
          -1,
          1,
          1,
          1,
          2,
          0,
          -1,
          -2,
          2,
          0
         ]
        },
        {
         "boxmean": true,
         "boxpoints": "all",
         "jitter": 1,
         "legendgrouptitle": {
          "font": {
           "color": "#3B3B3B"
          }
         },
         "name": "外观",
         "pointpos": 0,
         "type": "box",
         "y": [
          -1,
          2,
          0,
          -1,
          0,
          -1,
          2,
          0,
          -2,
          1,
          -1,
          2,
          1,
          2,
          1,
          1,
          -1,
          -1,
          0,
          2
         ]
        },
        {
         "boxmean": true,
         "boxpoints": "all",
         "jitter": 1,
         "legendgrouptitle": {
          "font": {
           "color": "#3B3B3B"
          }
         },
         "name": "活力",
         "pointpos": 0,
         "type": "box",
         "y": [
          -1,
          2,
          -1,
          -1,
          -1,
          -1,
          2,
          2,
          -1,
          1,
          -1,
          2,
          1,
          2,
          1,
          0,
          -2,
          -1,
          2,
          0
         ]
        },
        {
         "boxmean": true,
         "boxpoints": "all",
         "jitter": 1,
         "legendgrouptitle": {
          "font": {
           "color": "#3B3B3B"
          }
         },
         "name": "清楚与否",
         "pointpos": 0,
         "type": "box",
         "y": [
          -1,
          2,
          1,
          2,
          -1,
          -1,
          1,
          0,
          1,
          1,
          -1,
          1,
          2,
          0,
          2,
          -1,
          -2,
          -1,
          2,
          -1
         ]
        },
        {
         "boxmean": true,
         "boxpoints": "all",
         "jitter": 1,
         "legendgrouptitle": {
          "font": {
           "color": "#3B3B3B"
          }
         },
         "name": "方便与否",
         "pointpos": 0,
         "type": "box",
         "y": [
          -1,
          2,
          0,
          -1,
          -1,
          1,
          2,
          1,
          1,
          1,
          0,
          1,
          -1,
          2,
          1,
          -1,
          -2,
          -1,
          -1,
          -1
         ]
        },
        {
         "boxmean": true,
         "boxpoints": "all",
         "jitter": 1,
         "legendgrouptitle": {
          "font": {
           "color": "#3B3B3B"
          }
         },
         "name": "设计感",
         "pointpos": 0,
         "type": "box",
         "y": [
          0,
          2,
          1,
          -1,
          -2,
          -1,
          1,
          0,
          -1,
          1,
          -1,
          -1,
          2,
          1,
          1,
          -1,
          -1,
          -1,
          2,
          0
         ]
        },
        {
         "boxmean": true,
         "boxpoints": "all",
         "jitter": 1,
         "legendgrouptitle": {
          "font": {
           "color": "#3B3B3B"
          }
         },
         "name": "新旧",
         "pointpos": 0,
         "type": "box",
         "y": [
          -1,
          -2,
          -1,
          0,
          -2,
          -1,
          2,
          -2,
          -1,
          1,
          -1,
          0,
          0,
          2,
          1,
          1,
          -1,
          -1,
          2,
          -1
         ]
        },
        {
         "boxmean": true,
         "boxpoints": "all",
         "jitter": 1,
         "legendgrouptitle": {
          "font": {
           "color": "#3B3B3B"
          }
         },
         "name": "设计特色",
         "pointpos": 0,
         "type": "box",
         "y": [
          -1,
          2,
          -1,
          -2,
          -1,
          -1,
          2,
          0,
          -1,
          1,
          -1,
          1,
          1,
          2,
          2,
          -1,
          -2,
          -1,
          2,
          0
         ]
        },
        {
         "boxmean": true,
         "boxpoints": "all",
         "jitter": 1,
         "legendgrouptitle": {
          "font": {
           "color": "#3B3B3B"
          }
         },
         "name": "设计的丰富与否",
         "pointpos": 0,
         "type": "box",
         "y": [
          -1,
          -2,
          -1,
          -2,
          0,
          -1,
          -1,
          -1,
          -1,
          1,
          -1,
          1,
          0,
          -1,
          1,
          1,
          -2,
          -1,
          2,
          0
         ]
        },
        {
         "boxmean": true,
         "boxpoints": "all",
         "jitter": 1,
         "legendgrouptitle": {
          "font": {
           "color": "#3B3B3B"
          }
         },
         "name": "设计的统一与否",
         "pointpos": 0,
         "type": "box",
         "y": [
          1,
          1,
          2,
          -2,
          0,
          -1,
          -1,
          1,
          -2,
          1,
          2,
          2,
          2,
          2,
          1,
          1,
          -2,
          -1,
          1,
          0
         ]
        },
        {
         "boxmean": true,
         "boxpoints": "all",
         "jitter": 1,
         "legendgrouptitle": {
          "font": {
           "color": "#3B3B3B"
          }
         },
         "name": "设计的精致与否",
         "pointpos": 0,
         "type": "box",
         "y": [
          -1,
          -1,
          1,
          -2,
          -1,
          -1,
          1,
          -1,
          1,
          1,
          -1,
          1,
          1,
          2,
          1,
          -1,
          -2,
          -2,
          2,
          0
         ]
        },
        {
         "boxmean": true,
         "boxpoints": "all",
         "jitter": 1,
         "legendgrouptitle": {
          "font": {
           "color": "#3B3B3B"
          }
         },
         "name": "舒适与否",
         "pointpos": 0,
         "type": "box",
         "y": [
          -1,
          -2,
          -1,
          -1,
          -2,
          -1,
          1,
          -2,
          -1,
          1,
          -2,
          1,
          -1,
          2,
          2,
          -2,
          -2,
          -1,
          -1,
          -1
         ]
        },
        {
         "boxmean": true,
         "boxpoints": "all",
         "jitter": 1,
         "legendgrouptitle": {
          "font": {
           "color": "#3B3B3B"
          }
         },
         "name": "宽敞与否",
         "pointpos": 0,
         "type": "box",
         "y": [
          -1,
          -2,
          1,
          -2,
          -2,
          -1,
          1,
          -1,
          -1,
          1,
          -1,
          0,
          -1,
          2,
          1,
          1,
          -2,
          -1,
          -1,
          -1
         ]
        },
        {
         "boxmean": true,
         "boxpoints": "all",
         "jitter": 1,
         "legendgrouptitle": {
          "font": {
           "color": "#3B3B3B"
          }
         },
         "name": "夜晚是否清楚",
         "pointpos": 0,
         "type": "box",
         "y": [
          -2,
          -2,
          -1,
          -2,
          -2,
          -1,
          1,
          -1,
          1,
          1,
          0,
          0,
          -1,
          2,
          2,
          -2,
          -2,
          -1,
          2,
          -1
         ]
        },
        {
         "boxmean": true,
         "boxpoints": "all",
         "jitter": 1,
         "legendgrouptitle": {
          "font": {
           "color": "#3B3B3B"
          }
         },
         "name": "候车的整体感受",
         "pointpos": 0,
         "type": "box",
         "y": [
          0,
          0,
          -1,
          -2,
          -2,
          -2,
          -1,
          -1,
          -1,
          1,
          -2,
          -2,
          -1,
          2,
          2,
          -2,
          -2,
          -1,
          -2,
          -2
         ]
        }
       ],
       "layout": {
        "template": {
         "data": {
          "bar": [
           {
            "error_x": {
             "color": "#2a3f5f"
            },
            "error_y": {
             "color": "#2a3f5f"
            },
            "marker": {
             "line": {
              "color": "#E5ECF6",
              "width": 0.5
             },
             "pattern": {
              "fillmode": "overlay",
              "size": 10,
              "solidity": 0.2
             }
            },
            "type": "bar"
           }
          ],
          "barpolar": [
           {
            "marker": {
             "line": {
              "color": "#E5ECF6",
              "width": 0.5
             },
             "pattern": {
              "fillmode": "overlay",
              "size": 10,
              "solidity": 0.2
             }
            },
            "type": "barpolar"
           }
          ],
          "carpet": [
           {
            "aaxis": {
             "endlinecolor": "#2a3f5f",
             "gridcolor": "white",
             "linecolor": "white",
             "minorgridcolor": "white",
             "startlinecolor": "#2a3f5f"
            },
            "baxis": {
             "endlinecolor": "#2a3f5f",
             "gridcolor": "white",
             "linecolor": "white",
             "minorgridcolor": "white",
             "startlinecolor": "#2a3f5f"
            },
            "type": "carpet"
           }
          ],
          "choropleth": [
           {
            "colorbar": {
             "outlinewidth": 0,
             "ticks": ""
            },
            "type": "choropleth"
           }
          ],
          "contour": [
           {
            "colorbar": {
             "outlinewidth": 0,
             "ticks": ""
            },
            "colorscale": [
             [
              0,
              "#0d0887"
             ],
             [
              0.1111111111111111,
              "#46039f"
             ],
             [
              0.2222222222222222,
              "#7201a8"
             ],
             [
              0.3333333333333333,
              "#9c179e"
             ],
             [
              0.4444444444444444,
              "#bd3786"
             ],
             [
              0.5555555555555556,
              "#d8576b"
             ],
             [
              0.6666666666666666,
              "#ed7953"
             ],
             [
              0.7777777777777778,
              "#fb9f3a"
             ],
             [
              0.8888888888888888,
              "#fdca26"
             ],
             [
              1,
              "#f0f921"
             ]
            ],
            "type": "contour"
           }
          ],
          "contourcarpet": [
           {
            "colorbar": {
             "outlinewidth": 0,
             "ticks": ""
            },
            "type": "contourcarpet"
           }
          ],
          "heatmap": [
           {
            "colorbar": {
             "outlinewidth": 0,
             "ticks": ""
            },
            "colorscale": [
             [
              0,
              "#0d0887"
             ],
             [
              0.1111111111111111,
              "#46039f"
             ],
             [
              0.2222222222222222,
              "#7201a8"
             ],
             [
              0.3333333333333333,
              "#9c179e"
             ],
             [
              0.4444444444444444,
              "#bd3786"
             ],
             [
              0.5555555555555556,
              "#d8576b"
             ],
             [
              0.6666666666666666,
              "#ed7953"
             ],
             [
              0.7777777777777778,
              "#fb9f3a"
             ],
             [
              0.8888888888888888,
              "#fdca26"
             ],
             [
              1,
              "#f0f921"
             ]
            ],
            "type": "heatmap"
           }
          ],
          "heatmapgl": [
           {
            "colorbar": {
             "outlinewidth": 0,
             "ticks": ""
            },
            "colorscale": [
             [
              0,
              "#0d0887"
             ],
             [
              0.1111111111111111,
              "#46039f"
             ],
             [
              0.2222222222222222,
              "#7201a8"
             ],
             [
              0.3333333333333333,
              "#9c179e"
             ],
             [
              0.4444444444444444,
              "#bd3786"
             ],
             [
              0.5555555555555556,
              "#d8576b"
             ],
             [
              0.6666666666666666,
              "#ed7953"
             ],
             [
              0.7777777777777778,
              "#fb9f3a"
             ],
             [
              0.8888888888888888,
              "#fdca26"
             ],
             [
              1,
              "#f0f921"
             ]
            ],
            "type": "heatmapgl"
           }
          ],
          "histogram": [
           {
            "marker": {
             "pattern": {
              "fillmode": "overlay",
              "size": 10,
              "solidity": 0.2
             }
            },
            "type": "histogram"
           }
          ],
          "histogram2d": [
           {
            "colorbar": {
             "outlinewidth": 0,
             "ticks": ""
            },
            "colorscale": [
             [
              0,
              "#0d0887"
             ],
             [
              0.1111111111111111,
              "#46039f"
             ],
             [
              0.2222222222222222,
              "#7201a8"
             ],
             [
              0.3333333333333333,
              "#9c179e"
             ],
             [
              0.4444444444444444,
              "#bd3786"
             ],
             [
              0.5555555555555556,
              "#d8576b"
             ],
             [
              0.6666666666666666,
              "#ed7953"
             ],
             [
              0.7777777777777778,
              "#fb9f3a"
             ],
             [
              0.8888888888888888,
              "#fdca26"
             ],
             [
              1,
              "#f0f921"
             ]
            ],
            "type": "histogram2d"
           }
          ],
          "histogram2dcontour": [
           {
            "colorbar": {
             "outlinewidth": 0,
             "ticks": ""
            },
            "colorscale": [
             [
              0,
              "#0d0887"
             ],
             [
              0.1111111111111111,
              "#46039f"
             ],
             [
              0.2222222222222222,
              "#7201a8"
             ],
             [
              0.3333333333333333,
              "#9c179e"
             ],
             [
              0.4444444444444444,
              "#bd3786"
             ],
             [
              0.5555555555555556,
              "#d8576b"
             ],
             [
              0.6666666666666666,
              "#ed7953"
             ],
             [
              0.7777777777777778,
              "#fb9f3a"
             ],
             [
              0.8888888888888888,
              "#fdca26"
             ],
             [
              1,
              "#f0f921"
             ]
            ],
            "type": "histogram2dcontour"
           }
          ],
          "mesh3d": [
           {
            "colorbar": {
             "outlinewidth": 0,
             "ticks": ""
            },
            "type": "mesh3d"
           }
          ],
          "parcoords": [
           {
            "line": {
             "colorbar": {
              "outlinewidth": 0,
              "ticks": ""
             }
            },
            "type": "parcoords"
           }
          ],
          "pie": [
           {
            "automargin": true,
            "type": "pie"
           }
          ],
          "scatter": [
           {
            "fillpattern": {
             "fillmode": "overlay",
             "size": 10,
             "solidity": 0.2
            },
            "type": "scatter"
           }
          ],
          "scatter3d": [
           {
            "line": {
             "colorbar": {
              "outlinewidth": 0,
              "ticks": ""
             }
            },
            "marker": {
             "colorbar": {
              "outlinewidth": 0,
              "ticks": ""
             }
            },
            "type": "scatter3d"
           }
          ],
          "scattercarpet": [
           {
            "marker": {
             "colorbar": {
              "outlinewidth": 0,
              "ticks": ""
             }
            },
            "type": "scattercarpet"
           }
          ],
          "scattergeo": [
           {
            "marker": {
             "colorbar": {
              "outlinewidth": 0,
              "ticks": ""
             }
            },
            "type": "scattergeo"
           }
          ],
          "scattergl": [
           {
            "marker": {
             "colorbar": {
              "outlinewidth": 0,
              "ticks": ""
             }
            },
            "type": "scattergl"
           }
          ],
          "scattermapbox": [
           {
            "marker": {
             "colorbar": {
              "outlinewidth": 0,
              "ticks": ""
             }
            },
            "type": "scattermapbox"
           }
          ],
          "scatterpolar": [
           {
            "marker": {
             "colorbar": {
              "outlinewidth": 0,
              "ticks": ""
             }
            },
            "type": "scatterpolar"
           }
          ],
          "scatterpolargl": [
           {
            "marker": {
             "colorbar": {
              "outlinewidth": 0,
              "ticks": ""
             }
            },
            "type": "scatterpolargl"
           }
          ],
          "scatterternary": [
           {
            "marker": {
             "colorbar": {
              "outlinewidth": 0,
              "ticks": ""
             }
            },
            "type": "scatterternary"
           }
          ],
          "surface": [
           {
            "colorbar": {
             "outlinewidth": 0,
             "ticks": ""
            },
            "colorscale": [
             [
              0,
              "#0d0887"
             ],
             [
              0.1111111111111111,
              "#46039f"
             ],
             [
              0.2222222222222222,
              "#7201a8"
             ],
             [
              0.3333333333333333,
              "#9c179e"
             ],
             [
              0.4444444444444444,
              "#bd3786"
             ],
             [
              0.5555555555555556,
              "#d8576b"
             ],
             [
              0.6666666666666666,
              "#ed7953"
             ],
             [
              0.7777777777777778,
              "#fb9f3a"
             ],
             [
              0.8888888888888888,
              "#fdca26"
             ],
             [
              1,
              "#f0f921"
             ]
            ],
            "type": "surface"
           }
          ],
          "table": [
           {
            "cells": {
             "fill": {
              "color": "#EBF0F8"
             },
             "line": {
              "color": "white"
             }
            },
            "header": {
             "fill": {
              "color": "#C8D4E3"
             },
             "line": {
              "color": "white"
             }
            },
            "type": "table"
           }
          ]
         },
         "layout": {
          "annotationdefaults": {
           "arrowcolor": "#2a3f5f",
           "arrowhead": 0,
           "arrowwidth": 1
          },
          "autotypenumbers": "strict",
          "coloraxis": {
           "colorbar": {
            "outlinewidth": 0,
            "ticks": ""
           }
          },
          "colorscale": {
           "diverging": [
            [
             0,
             "#8e0152"
            ],
            [
             0.1,
             "#c51b7d"
            ],
            [
             0.2,
             "#de77ae"
            ],
            [
             0.3,
             "#f1b6da"
            ],
            [
             0.4,
             "#fde0ef"
            ],
            [
             0.5,
             "#f7f7f7"
            ],
            [
             0.6,
             "#e6f5d0"
            ],
            [
             0.7,
             "#b8e186"
            ],
            [
             0.8,
             "#7fbc41"
            ],
            [
             0.9,
             "#4d9221"
            ],
            [
             1,
             "#276419"
            ]
           ],
           "sequential": [
            [
             0,
             "#0d0887"
            ],
            [
             0.1111111111111111,
             "#46039f"
            ],
            [
             0.2222222222222222,
             "#7201a8"
            ],
            [
             0.3333333333333333,
             "#9c179e"
            ],
            [
             0.4444444444444444,
             "#bd3786"
            ],
            [
             0.5555555555555556,
             "#d8576b"
            ],
            [
             0.6666666666666666,
             "#ed7953"
            ],
            [
             0.7777777777777778,
             "#fb9f3a"
            ],
            [
             0.8888888888888888,
             "#fdca26"
            ],
            [
             1,
             "#f0f921"
            ]
           ],
           "sequentialminus": [
            [
             0,
             "#0d0887"
            ],
            [
             0.1111111111111111,
             "#46039f"
            ],
            [
             0.2222222222222222,
             "#7201a8"
            ],
            [
             0.3333333333333333,
             "#9c179e"
            ],
            [
             0.4444444444444444,
             "#bd3786"
            ],
            [
             0.5555555555555556,
             "#d8576b"
            ],
            [
             0.6666666666666666,
             "#ed7953"
            ],
            [
             0.7777777777777778,
             "#fb9f3a"
            ],
            [
             0.8888888888888888,
             "#fdca26"
            ],
            [
             1,
             "#f0f921"
            ]
           ]
          },
          "colorway": [
           "#636efa",
           "#EF553B",
           "#00cc96",
           "#ab63fa",
           "#FFA15A",
           "#19d3f3",
           "#FF6692",
           "#B6E880",
           "#FF97FF",
           "#FECB52"
          ],
          "font": {
           "color": "#2a3f5f"
          },
          "geo": {
           "bgcolor": "white",
           "lakecolor": "white",
           "landcolor": "#E5ECF6",
           "showlakes": true,
           "showland": true,
           "subunitcolor": "white"
          },
          "hoverlabel": {
           "align": "left"
          },
          "hovermode": "closest",
          "mapbox": {
           "style": "light"
          },
          "paper_bgcolor": "white",
          "plot_bgcolor": "#E5ECF6",
          "polar": {
           "angularaxis": {
            "gridcolor": "white",
            "linecolor": "white",
            "ticks": ""
           },
           "bgcolor": "#E5ECF6",
           "radialaxis": {
            "gridcolor": "white",
            "linecolor": "white",
            "ticks": ""
           }
          },
          "scene": {
           "xaxis": {
            "backgroundcolor": "#E5ECF6",
            "gridcolor": "white",
            "gridwidth": 2,
            "linecolor": "white",
            "showbackground": true,
            "ticks": "",
            "zerolinecolor": "white"
           },
           "yaxis": {
            "backgroundcolor": "#E5ECF6",
            "gridcolor": "white",
            "gridwidth": 2,
            "linecolor": "white",
            "showbackground": true,
            "ticks": "",
            "zerolinecolor": "white"
           },
           "zaxis": {
            "backgroundcolor": "#E5ECF6",
            "gridcolor": "white",
            "gridwidth": 2,
            "linecolor": "white",
            "showbackground": true,
            "ticks": "",
            "zerolinecolor": "white"
           }
          },
          "shapedefaults": {
           "line": {
            "color": "#2a3f5f"
           }
          },
          "ternary": {
           "aaxis": {
            "gridcolor": "white",
            "linecolor": "white",
            "ticks": ""
           },
           "baxis": {
            "gridcolor": "white",
            "linecolor": "white",
            "ticks": ""
           },
           "bgcolor": "#E5ECF6",
           "caxis": {
            "gridcolor": "white",
            "linecolor": "white",
            "ticks": ""
           }
          },
          "title": {
           "x": 0.05
          },
          "xaxis": {
           "automargin": true,
           "gridcolor": "white",
           "linecolor": "white",
           "ticks": "",
           "title": {
            "standoff": 15
           },
           "zerolinecolor": "white",
           "zerolinewidth": 2
          },
          "yaxis": {
           "automargin": true,
           "gridcolor": "white",
           "linecolor": "white",
           "ticks": "",
           "title": {
            "standoff": 15
           },
           "zerolinecolor": "white",
           "zerolinewidth": 2
          }
         }
        }
       }
      }
     },
     "metadata": {},
     "output_type": "display_data"
    }
   ],
   "source": [
    "fig = go.Figure()\n",
    "name_temp = ['印象','外观','活力','清楚与否','方便与否','设计感','新旧','设计特色','设计的丰富与否','设计的统一与否',\n",
    "        '设计的精致与否','舒适与否','宽敞与否','夜晚是否清楚','候车的整体感受']\n",
    "for i in range(len(data.columns)):\n",
    "    temp = data.iloc[:, i]\n",
    "    fig.add_trace(go.Box(y=temp, name=name_temp[i], boxmean=True, boxpoints='all',jitter=1, pointpos = 0))\n",
    "fig.update_traces(legendgrouptitle = dict(\n",
    "    font = dict(\n",
    "        color = '#3B3B3B'\n",
    "                )\n",
    "    ),)\n",
    "fig.show()\n",
    "# 输出\n",
    "fig.write_html('test.html')"
   ]
  },
  {
   "cell_type": "code",
   "execution_count": null,
   "metadata": {},
   "outputs": [],
   "source": [
    "fig = go.Figure()\n",
    "fig.add_trace(go.Box(y=y_0, name='印象'))\n",
    "fig.add_trace(go.Box(y=y_1, name='外观'))"
   ]
  }
 ],
 "metadata": {
  "interpreter": {
   "hash": "11938c6bc6919ae2720b4d5011047913343b08a43b18698fd82dedb0d4417594"
  },
  "kernelspec": {
   "display_name": "Python 3.9.12 64-bit",
   "language": "python",
   "name": "python3"
  },
  "language_info": {
   "codemirror_mode": {
    "name": "ipython",
    "version": 3
   },
   "file_extension": ".py",
   "mimetype": "text/x-python",
   "name": "python",
   "nbconvert_exporter": "python",
   "pygments_lexer": "ipython3",
   "version": "3.9.12"
  },
  "orig_nbformat": 4
 },
 "nbformat": 4,
 "nbformat_minor": 2
}
