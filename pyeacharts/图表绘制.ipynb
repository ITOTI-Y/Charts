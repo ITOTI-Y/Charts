{
 "cells": [
  {
   "cell_type": "code",
   "execution_count": 1,
   "outputs": [],
   "source": [
    "from pyecharts import options as opts\n",
    "from pyecharts.charts import Bar, Line\n",
    "import pandas as pd"
   ],
   "metadata": {
    "collapsed": false,
    "pycharm": {
     "name": "#%%\n"
    }
   }
  },
  {
   "cell_type": "code",
   "execution_count": 248,
   "outputs": [
    {
     "name": "stdout",
     "output_type": "stream",
     "text": [
      "2560px 1440\n"
     ]
    }
   ],
   "source": [
    "import win32api\n",
    "import win32gui\n",
    "\n",
    "hDC = win32gui.GetDC(0)\n",
    "w = win32api.GetSystemMetrics(0)\n",
    "h = win32api.GetSystemMetrics(1)\n",
    "w = str(w)\n",
    "h = str(h)\n",
    "print(w,h)"
   ],
   "metadata": {
    "collapsed": false,
    "pycharm": {
     "name": "#%%\n"
    }
   }
  },
  {
   "cell_type": "code",
   "execution_count": 236,
   "outputs": [],
   "source": [
    "# 读取数据\n",
    "df = pd.read_csv(\"C:/Users/Administrator/Desktop/Book1.csv\")\n",
    "label = [\"Time\", \"Out_clear\", \"In_clear\", \"Out_PV\", \"In_PV\", \"Out_RRC\", \"In_RRC\", \"A_T\"]\n",
    "i = 0\n",
    "data = []"
   ],
   "metadata": {
    "collapsed": false,
    "pycharm": {
     "name": "#%%\n"
    }
   }
  },
  {
   "cell_type": "code",
   "execution_count": 237,
   "outputs": [],
   "source": [
    "# 处理数据\n",
    "for each in label:\n",
    "    each = df.iloc[:, i]\n",
    "    each = each.tolist()\n",
    "    data.append(each)\n",
    "    i += 1"
   ],
   "metadata": {
    "collapsed": false,
    "pycharm": {
     "name": "#%%\n"
    }
   }
  },
  {
   "cell_type": "code",
   "source": [
    "#创建柱状图表\n",
    "bar = (\n",
    "    Bar(init_opts=opts.InitOpts(width=\"1920px\", height=\"1080px\", theme=\"default\"))\n",
    "        .add_xaxis(data[0])\n",
    "        .add_yaxis(label[1], data[1])\n",
    "        .add_yaxis(label[2], data[2])\n",
    "        .add_yaxis(label[3], data[3])\n",
    "        .add_yaxis(label[4], data[4])\n",
    "        .add_yaxis(label[5], data[5])\n",
    "        .add_yaxis(label[6], data[6])\n",
    "        # 设置额外纵坐标轴\n",
    "        .extend_axis(\n",
    "        yaxis=opts.AxisOpts(\n",
    "            name=\"Ambient Temperature\",\n",
    "            type_=\"value\",\n",
    "            min_=10,\n",
    "            max_=35,\n",
    "            interval=5,\n",
    "            axislabel_opts=opts.LabelOpts(formatter=\"{value} °C\"),\n",
    "        )\n",
    "    )\n",
    "        # 不显示数值\n",
    "        .set_series_opts(label_opts=opts.LabelOpts(is_show=False))\n",
    "        # 设置标题及左侧纵坐标轴\n",
    "        .set_global_opts(title_opts=opts.TitleOpts(title=\"Temperature\"),\n",
    "                         datazoom_opts=[opts.DataZoomOpts(), opts.DataZoomOpts(type_=\"inside\")],\n",
    "                         yaxis_opts=opts.AxisOpts(\n",
    "                             name=\"Temperature\",\n",
    "                             type_=\"value\",\n",
    "                             min_=21,\n",
    "                             max_=55,\n",
    "                             interval=5,\n",
    "                             axislabel_opts=opts.LabelOpts(formatter=\"{value} ℃\"),\n",
    "                             axistick_opts=opts.AxisTickOpts(is_show=True),\n",
    "                             splitline_opts=opts.SplitLineOpts(is_show=True),\n",
    "                         ),\n",
    "                         # 增加显示盒\n",
    "                         tooltip_opts=opts.TooltipOpts(\n",
    "                             is_show=True, trigger=\"axis\", axis_pointer_type=\"cross\"\n",
    "                         )\n",
    "                         )\n",
    ")"
   ],
   "metadata": {
    "collapsed": false,
    "pycharm": {
     "name": "#%%\n"
    }
   },
   "execution_count": null,
   "outputs": []
  },
  {
   "cell_type": "code",
   "execution_count": 239,
   "outputs": [],
   "source": [
    "# 增加折线图\n",
    "line = (\n",
    "    Line()\n",
    "        .add_xaxis(xaxis_data=data[0])\n",
    "        .add_yaxis(\n",
    "        series_name=\"Ambient Temperature\",\n",
    "        yaxis_index=1,\n",
    "        y_axis=data[7],\n",
    "        label_opts=opts.LabelOpts(is_show=False),\n",
    "    )\n",
    ")"
   ],
   "metadata": {
    "collapsed": false,
    "pycharm": {
     "name": "#%%\n"
    }
   }
  },
  {
   "cell_type": "code",
   "execution_count": 240,
   "outputs": [
    {
     "data": {
      "text/plain": "'C:\\\\Users\\\\Administrator\\\\Desktop\\\\Python\\\\Work\\\\图表\\\\bar_datazoom_slider.html'"
     },
     "execution_count": 240,
     "metadata": {},
     "output_type": "execute_result"
    }
   ],
   "source": [
    "# 合并图表\n",
    "bar.overlap(line).render(\"bar_data_zoom_slider.html\")"
   ],
   "metadata": {
    "collapsed": false,
    "pycharm": {
     "name": "#%%\n"
    }
   }
  }
 ],
 "metadata": {
  "kernelspec": {
   "display_name": "Python 3",
   "language": "python",
   "name": "python3"
  },
  "language_info": {
   "codemirror_mode": {
    "name": "ipython",
    "version": 2
   },
   "file_extension": ".py",
   "mimetype": "text/x-python",
   "name": "python",
   "nbconvert_exporter": "python",
   "pygments_lexer": "ipython2",
   "version": "2.7.6"
  }
 },
 "nbformat": 4,
 "nbformat_minor": 0
}